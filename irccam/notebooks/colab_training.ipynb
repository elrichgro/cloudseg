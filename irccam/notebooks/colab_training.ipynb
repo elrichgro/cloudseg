{
  "nbformat": 4,
  "nbformat_minor": 0,
  "metadata": {
    "colab": {
      "name": "colab_training.ipynb",
      "provenance": [],
      "authorship_tag": "ABX9TyPTsFbHq7JJXK00dRCNnzHr",
      "include_colab_link": true
    },
    "kernelspec": {
      "name": "python3",
      "display_name": "Python 3"
    },
    "accelerator": "GPU"
  },
  "cells": [
    {
      "cell_type": "markdown",
      "metadata": {
        "id": "view-in-github",
        "colab_type": "text"
      },
      "source": [
        "<a href=\"https://colab.research.google.com/github/elrichgro/irccam-pmodwrc/blob/main/irccam/notebooks/colab_training.ipynb\" target=\"_parent\"><img src=\"https://colab.research.google.com/assets/colab-badge.svg\" alt=\"Open In Colab\"/></a>"
      ]
    },
    {
      "cell_type": "code",
      "metadata": {
        "id": "ovPnm-iuj2r-",
        "outputId": "03f8957a-7621-4f11-ecee-4fd52eb74a28",
        "colab": {
          "base_uri": "https://localhost:8080/"
        }
      },
      "source": [
        "# Get code\n",
        "%cd /content\n",
        "!rm -rf irccam-pmodwrc/\n",
        "!git clone https://github.com/elrichgro/irccam-pmodwrc.git"
      ],
      "execution_count": 1,
      "outputs": [
        {
          "output_type": "stream",
          "text": [
            "/content\n",
            "Cloning into 'irccam-pmodwrc'...\n",
            "remote: Enumerating objects: 160, done.\u001b[K\n",
            "remote: Counting objects: 100% (160/160), done.\u001b[K\n",
            "remote: Compressing objects: 100% (110/110), done.\u001b[K\n",
            "remote: Total 347 (delta 96), reused 111 (delta 49), pack-reused 187\u001b[K\n",
            "Receiving objects: 100% (347/347), 41.71 MiB | 3.05 MiB/s, done.\n",
            "Resolving deltas: 100% (184/184), done.\n"
          ],
          "name": "stdout"
        }
      ]
    },
    {
      "cell_type": "code",
      "metadata": {
        "id": "HDqKekw6kEwD",
        "outputId": "2d45ac03-f2f3-49da-9f85-69f610932b67",
        "colab": {
          "base_uri": "https://localhost:8080/"
        }
      },
      "source": [
        "# Download data\n",
        "%cd /content\n",
        "!wget 'https://storage.lodrant.si/datasets/dataset_v1.zip'\n",
        "!unzip dataset_v1.zip"
      ],
      "execution_count": null,
      "outputs": [
        {
          "output_type": "stream",
          "text": [
            "/content\n",
            "--2020-11-10 14:40:14--  https://storage.lodrant.si/datasets/dataset_v1.zip\n",
            "Resolving storage.lodrant.si (storage.lodrant.si)... 188.166.84.218\n",
            "Connecting to storage.lodrant.si (storage.lodrant.si)|188.166.84.218|:443... connected.\n",
            "HTTP request sent, awaiting response... 200 OK\n",
            "Length: 833675015 (795M) [application/zip]\n",
            "Saving to: ‘dataset_v1.zip.2’\n",
            "\n",
            "dataset_v1.zip.2    100%[===================>] 795.05M  7.34MB/s    in 1m 47s  \n",
            "\n",
            "2020-11-10 14:42:01 (7.44 MB/s) - ‘dataset_v1.zip.2’ saved [833675015/833675015]\n",
            "\n",
            "Archive:  dataset_v1.zip\n",
            "replace dataset_v1/test/20180222/20180222104000_irc.tif? [y]es, [n]o, [A]ll, [N]one, [r]ename: "
          ],
          "name": "stdout"
        }
      ]
    },
    {
      "cell_type": "code",
      "metadata": {
        "id": "3VgmeiRgls8b"
      },
      "source": [
        "# Install dependencies\n",
        "%cd /content/irccam-pmodwrc/\n",
        "!pip install -r requirements.txt"
      ],
      "execution_count": null,
      "outputs": []
    },
    {
      "cell_type": "code",
      "metadata": {
        "id": "sHlxTn1Rra9H"
      },
      "source": [
        "# Train model\n",
        "%cd /content/irccam-pmodwrc\n",
        "import json \n",
        "config = {\n",
        "    \"batch_size\": 4,\n",
        "    \"batch_size_val\": 8,\n",
        "    \"num_epochs\": 16,\n",
        "    \"model_name\": \"unet\",\n",
        "    \"dataset_root\": \"/content/dataset_v1\",\n",
        "    \"learning_rate\": 0.01,\n",
        "}\n",
        "with open(\"config.json\", \"w\") as f:\n",
        "    json.dump(config, f)\n",
        "\n",
        "!PYTHONPATH=$PYTHONPATH:/content/irccam-pmodwrc python irccam/training/train.py -c config.json"
      ],
      "execution_count": null,
      "outputs": []
    },
    {
      "cell_type": "code",
      "metadata": {
        "id": "Nm8FbILlifhH"
      },
      "source": [
        ""
      ],
      "execution_count": null,
      "outputs": []
    }
  ]
}