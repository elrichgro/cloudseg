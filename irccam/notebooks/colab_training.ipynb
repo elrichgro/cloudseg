{
  "nbformat": 4,
  "nbformat_minor": 0,
  "metadata": {
    "colab": {
      "name": "colab_training.ipynb",
      "provenance": [],
      "collapsed_sections": [],
      "authorship_tag": "ABX9TyNNsNhNyvxK73zXV6goPW3V",
      "include_colab_link": true
    },
    "kernelspec": {
      "name": "python3",
      "display_name": "Python 3"
    },
    "accelerator": "GPU"
  },
  "cells": [
    {
      "cell_type": "markdown",
      "metadata": {
        "id": "view-in-github",
        "colab_type": "text"
      },
      "source": [
        "<a href=\"https://colab.research.google.com/github/elrichgro/irccam-pmodwrc/blob/dependabot%2Fpip%2Fnotebook-6.1.5/irccam/notebooks/colab_training.ipynb\" target=\"_parent\"><img src=\"https://colab.research.google.com/assets/colab-badge.svg\" alt=\"Open In Colab\"/></a>"
      ]
    },
    {
      "cell_type": "code",
      "metadata": {
        "id": "ovPnm-iuj2r-",
        "colab": {
          "base_uri": "https://localhost:8080/"
        },
        "outputId": "587919df-ff93-4f55-dd5d-b2c591116701"
      },
      "source": [
        "# Get code\n",
        "%cd /content\n",
        "!rm -rf irccam-pmodwrc/\n",
        "!git clone https://github.com/elrichgro/irccam-pmodwrc.git"
      ],
      "execution_count": 1,
      "outputs": [
        {
          "output_type": "stream",
          "text": [
            "/content\n",
            "Cloning into 'irccam-pmodwrc'...\n",
            "remote: Enumerating objects: 295, done.\u001b[K\n",
            "remote: Counting objects: 100% (295/295), done.\u001b[K\n",
            "remote: Compressing objects: 100% (201/201), done.\u001b[K\n",
            "remote: Total 482 (delta 181), reused 190 (delta 91), pack-reused 187\u001b[K\n",
            "Receiving objects: 100% (482/482), 84.24 MiB | 9.05 MiB/s, done.\n",
            "Resolving deltas: 100% (269/269), done.\n"
          ],
          "name": "stdout"
        }
      ]
    },
    {
      "cell_type": "code",
      "metadata": {
        "id": "3VgmeiRgls8b",
        "colab": {
          "base_uri": "https://localhost:8080/"
        },
        "outputId": "5806564e-f93b-4e6a-a3ac-35bab8276ad6"
      },
      "source": [
        "# Install dependencies\n",
        "# %cd /content/irccam-pmodwrc/\n",
        "# !pip install test-tube\n",
        "# !pip install -r requirements.txt\n",
        "requirements = \"\"\"\n",
        "torch\n",
        "torchvision\n",
        "tqdm\n",
        "h5py\n",
        "jupyterlab\n",
        "opencv-contrib-python\n",
        "opencv-python\n",
        "pytorch-lightning==1.0.5\n",
        "future==0.17.1\n",
        "scipy\n",
        "scikit-learn\n",
        "astral\n",
        "test-tube\n",
        "\"\"\"\n",
        "\n",
        "with open('requirements.txt', 'w') as f:\n",
        "  f.write(requirements)\n",
        "\n",
        "!pip install -r requirements.txt"
      ],
      "execution_count": 2,
      "outputs": [
        {
          "output_type": "stream",
          "text": [
            "Requirement already satisfied: torch in /usr/local/lib/python3.6/dist-packages (from -r requirements.txt (line 2)) (1.7.0+cu101)\n",
            "Requirement already satisfied: torchvision in /usr/local/lib/python3.6/dist-packages (from -r requirements.txt (line 3)) (0.8.1+cu101)\n",
            "Requirement already satisfied: tqdm in /usr/local/lib/python3.6/dist-packages (from -r requirements.txt (line 4)) (4.41.1)\n",
            "Requirement already satisfied: h5py in /usr/local/lib/python3.6/dist-packages (from -r requirements.txt (line 5)) (2.10.0)\n",
            "Collecting jupyterlab\n",
            "\u001b[?25l  Downloading https://files.pythonhosted.org/packages/31/7b/cd66f306c31a84a53c6a3a86e296586e8664f407a6ac5b7cfe6a433aa8c4/jupyterlab-2.2.9-py3-none-any.whl (7.9MB)\n",
            "\u001b[K     |████████████████████████████████| 7.9MB 5.3MB/s \n",
            "\u001b[?25hRequirement already satisfied: opencv-contrib-python in /usr/local/lib/python3.6/dist-packages (from -r requirements.txt (line 7)) (4.1.2.30)\n",
            "Requirement already satisfied: opencv-python in /usr/local/lib/python3.6/dist-packages (from -r requirements.txt (line 8)) (4.1.2.30)\n",
            "Collecting pytorch-lightning==1.0.5\n",
            "\u001b[?25l  Downloading https://files.pythonhosted.org/packages/84/99/36ac1fd9516ddd0194afe8f399a1e78b1994cdca412b88823d93b7c3bc03/pytorch_lightning-1.0.5-py3-none-any.whl (559kB)\n",
            "\u001b[K     |████████████████████████████████| 563kB 47.8MB/s \n",
            "\u001b[?25hCollecting future==0.17.1\n",
            "\u001b[?25l  Downloading https://files.pythonhosted.org/packages/90/52/e20466b85000a181e1e144fd8305caf2cf475e2f9674e797b222f8105f5f/future-0.17.1.tar.gz (829kB)\n",
            "\u001b[K     |████████████████████████████████| 829kB 46.2MB/s \n",
            "\u001b[?25hRequirement already satisfied: scipy in /usr/local/lib/python3.6/dist-packages (from -r requirements.txt (line 11)) (1.4.1)\n",
            "Requirement already satisfied: scikit-learn in /usr/local/lib/python3.6/dist-packages (from -r requirements.txt (line 12)) (0.22.2.post1)\n",
            "Collecting astral\n",
            "  Downloading https://files.pythonhosted.org/packages/91/60/7cc241b9c3710ebadddcb323e77dd422c693183aec92449a1cf1fb59e1ba/astral-2.2-py2.py3-none-any.whl\n",
            "Collecting test-tube\n",
            "  Downloading https://files.pythonhosted.org/packages/91/f0/5c32f2fbd824f32354f7f4632c957163071597bb2c6a4105f507bc9af7c0/test_tube-0.7.5.tar.gz\n",
            "Requirement already satisfied: numpy in /usr/local/lib/python3.6/dist-packages (from torch->-r requirements.txt (line 2)) (1.18.5)\n",
            "Requirement already satisfied: typing-extensions in /usr/local/lib/python3.6/dist-packages (from torch->-r requirements.txt (line 2)) (3.7.4.3)\n",
            "Requirement already satisfied: dataclasses in /usr/local/lib/python3.6/dist-packages (from torch->-r requirements.txt (line 2)) (0.8)\n",
            "Requirement already satisfied: pillow>=4.1.1 in /usr/local/lib/python3.6/dist-packages (from torchvision->-r requirements.txt (line 3)) (7.0.0)\n",
            "Requirement already satisfied: six in /usr/local/lib/python3.6/dist-packages (from h5py->-r requirements.txt (line 5)) (1.15.0)\n",
            "Requirement already satisfied: notebook>=4.3.1 in /usr/local/lib/python3.6/dist-packages (from jupyterlab->-r requirements.txt (line 6)) (5.3.1)\n",
            "Requirement already satisfied: jinja2>=2.10 in /usr/local/lib/python3.6/dist-packages (from jupyterlab->-r requirements.txt (line 6)) (2.11.2)\n",
            "Requirement already satisfied: tornado!=6.0.0,!=6.0.1,!=6.0.2 in /usr/local/lib/python3.6/dist-packages (from jupyterlab->-r requirements.txt (line 6)) (5.1.1)\n",
            "Collecting jupyterlab-server<2.0,>=1.1.5\n",
            "  Downloading https://files.pythonhosted.org/packages/b4/eb/560043dcd8376328f8b98869efed66ef68307278406ab99c7f63a34d4ae2/jupyterlab_server-1.2.0-py3-none-any.whl\n",
            "Collecting fsspec>=0.8.0\n",
            "\u001b[?25l  Downloading https://files.pythonhosted.org/packages/a5/8b/1df260f860f17cb08698170153ef7db672c497c1840dcc8613ce26a8a005/fsspec-0.8.4-py3-none-any.whl (91kB)\n",
            "\u001b[K     |████████████████████████████████| 92kB 11.6MB/s \n",
            "\u001b[?25hCollecting PyYAML>=5.1\n",
            "\u001b[?25l  Downloading https://files.pythonhosted.org/packages/64/c2/b80047c7ac2478f9501676c988a5411ed5572f35d1beff9cae07d321512c/PyYAML-5.3.1.tar.gz (269kB)\n",
            "\u001b[K     |████████████████████████████████| 276kB 47.2MB/s \n",
            "\u001b[?25hRequirement already satisfied: tensorboard>=2.2.0 in /usr/local/lib/python3.6/dist-packages (from pytorch-lightning==1.0.5->-r requirements.txt (line 9)) (2.3.0)\n",
            "Requirement already satisfied: joblib>=0.11 in /usr/local/lib/python3.6/dist-packages (from scikit-learn->-r requirements.txt (line 12)) (0.17.0)\n",
            "Requirement already satisfied: pytz in /usr/local/lib/python3.6/dist-packages (from astral->-r requirements.txt (line 13)) (2018.9)\n",
            "Requirement already satisfied: pandas>=0.20.3 in /usr/local/lib/python3.6/dist-packages (from test-tube->-r requirements.txt (line 14)) (1.1.4)\n",
            "Requirement already satisfied: imageio>=2.3.0 in /usr/local/lib/python3.6/dist-packages (from test-tube->-r requirements.txt (line 14)) (2.4.1)\n",
            "Requirement already satisfied: terminado>=0.8.1 in /usr/local/lib/python3.6/dist-packages (from notebook>=4.3.1->jupyterlab->-r requirements.txt (line 6)) (0.9.1)\n",
            "Requirement already satisfied: nbformat in /usr/local/lib/python3.6/dist-packages (from notebook>=4.3.1->jupyterlab->-r requirements.txt (line 6)) (5.0.8)\n",
            "Requirement already satisfied: jupyter-core>=4.4.0 in /usr/local/lib/python3.6/dist-packages (from notebook>=4.3.1->jupyterlab->-r requirements.txt (line 6)) (4.7.0)\n",
            "Requirement already satisfied: Send2Trash in /usr/local/lib/python3.6/dist-packages (from notebook>=4.3.1->jupyterlab->-r requirements.txt (line 6)) (1.5.0)\n",
            "Requirement already satisfied: ipython-genutils in /usr/local/lib/python3.6/dist-packages (from notebook>=4.3.1->jupyterlab->-r requirements.txt (line 6)) (0.2.0)\n",
            "Requirement already satisfied: ipykernel in /usr/local/lib/python3.6/dist-packages (from notebook>=4.3.1->jupyterlab->-r requirements.txt (line 6)) (4.10.1)\n",
            "Requirement already satisfied: jupyter-client>=5.2.0 in /usr/local/lib/python3.6/dist-packages (from notebook>=4.3.1->jupyterlab->-r requirements.txt (line 6)) (5.3.5)\n",
            "Requirement already satisfied: traitlets>=4.2.1 in /usr/local/lib/python3.6/dist-packages (from notebook>=4.3.1->jupyterlab->-r requirements.txt (line 6)) (4.3.3)\n",
            "Requirement already satisfied: nbconvert in /usr/local/lib/python3.6/dist-packages (from notebook>=4.3.1->jupyterlab->-r requirements.txt (line 6)) (5.6.1)\n",
            "Requirement already satisfied: MarkupSafe>=0.23 in /usr/local/lib/python3.6/dist-packages (from jinja2>=2.10->jupyterlab->-r requirements.txt (line 6)) (1.1.1)\n",
            "Collecting jsonschema>=3.0.1\n",
            "\u001b[?25l  Downloading https://files.pythonhosted.org/packages/c5/8f/51e89ce52a085483359217bc72cdbf6e75ee595d5b1d4b5ade40c7e018b8/jsonschema-3.2.0-py2.py3-none-any.whl (56kB)\n",
            "\u001b[K     |████████████████████████████████| 61kB 8.7MB/s \n",
            "\u001b[?25hRequirement already satisfied: requests in /usr/local/lib/python3.6/dist-packages (from jupyterlab-server<2.0,>=1.1.5->jupyterlab->-r requirements.txt (line 6)) (2.23.0)\n",
            "Collecting json5\n",
            "  Downloading https://files.pythonhosted.org/packages/2b/81/22bf51a5bc60dde18bb6164fd597f18ee683de8670e141364d9c432dd3cf/json5-0.9.5-py2.py3-none-any.whl\n",
            "Requirement already satisfied: tensorboard-plugin-wit>=1.6.0 in /usr/local/lib/python3.6/dist-packages (from tensorboard>=2.2.0->pytorch-lightning==1.0.5->-r requirements.txt (line 9)) (1.7.0)\n",
            "Requirement already satisfied: absl-py>=0.4 in /usr/local/lib/python3.6/dist-packages (from tensorboard>=2.2.0->pytorch-lightning==1.0.5->-r requirements.txt (line 9)) (0.10.0)\n",
            "Requirement already satisfied: markdown>=2.6.8 in /usr/local/lib/python3.6/dist-packages (from tensorboard>=2.2.0->pytorch-lightning==1.0.5->-r requirements.txt (line 9)) (3.3.3)\n",
            "Requirement already satisfied: google-auth<2,>=1.6.3 in /usr/local/lib/python3.6/dist-packages (from tensorboard>=2.2.0->pytorch-lightning==1.0.5->-r requirements.txt (line 9)) (1.17.2)\n",
            "Requirement already satisfied: wheel>=0.26; python_version >= \"3\" in /usr/local/lib/python3.6/dist-packages (from tensorboard>=2.2.0->pytorch-lightning==1.0.5->-r requirements.txt (line 9)) (0.35.1)\n",
            "Requirement already satisfied: protobuf>=3.6.0 in /usr/local/lib/python3.6/dist-packages (from tensorboard>=2.2.0->pytorch-lightning==1.0.5->-r requirements.txt (line 9)) (3.12.4)\n",
            "Requirement already satisfied: google-auth-oauthlib<0.5,>=0.4.1 in /usr/local/lib/python3.6/dist-packages (from tensorboard>=2.2.0->pytorch-lightning==1.0.5->-r requirements.txt (line 9)) (0.4.2)\n",
            "Requirement already satisfied: setuptools>=41.0.0 in /usr/local/lib/python3.6/dist-packages (from tensorboard>=2.2.0->pytorch-lightning==1.0.5->-r requirements.txt (line 9)) (50.3.2)\n",
            "Requirement already satisfied: werkzeug>=0.11.15 in /usr/local/lib/python3.6/dist-packages (from tensorboard>=2.2.0->pytorch-lightning==1.0.5->-r requirements.txt (line 9)) (1.0.1)\n",
            "Requirement already satisfied: grpcio>=1.24.3 in /usr/local/lib/python3.6/dist-packages (from tensorboard>=2.2.0->pytorch-lightning==1.0.5->-r requirements.txt (line 9)) (1.33.2)\n",
            "Requirement already satisfied: python-dateutil>=2.7.3 in /usr/local/lib/python3.6/dist-packages (from pandas>=0.20.3->test-tube->-r requirements.txt (line 14)) (2.8.1)\n",
            "Requirement already satisfied: ptyprocess; os_name != \"nt\" in /usr/local/lib/python3.6/dist-packages (from terminado>=0.8.1->notebook>=4.3.1->jupyterlab->-r requirements.txt (line 6)) (0.6.0)\n",
            "Requirement already satisfied: ipython>=4.0.0 in /usr/local/lib/python3.6/dist-packages (from ipykernel->notebook>=4.3.1->jupyterlab->-r requirements.txt (line 6)) (5.5.0)\n",
            "Requirement already satisfied: pyzmq>=13 in /usr/local/lib/python3.6/dist-packages (from jupyter-client>=5.2.0->notebook>=4.3.1->jupyterlab->-r requirements.txt (line 6)) (20.0.0)\n",
            "Requirement already satisfied: decorator in /usr/local/lib/python3.6/dist-packages (from traitlets>=4.2.1->notebook>=4.3.1->jupyterlab->-r requirements.txt (line 6)) (4.4.2)\n",
            "Requirement already satisfied: defusedxml in /usr/local/lib/python3.6/dist-packages (from nbconvert->notebook>=4.3.1->jupyterlab->-r requirements.txt (line 6)) (0.6.0)\n",
            "Requirement already satisfied: bleach in /usr/local/lib/python3.6/dist-packages (from nbconvert->notebook>=4.3.1->jupyterlab->-r requirements.txt (line 6)) (3.2.1)\n",
            "Requirement already satisfied: mistune<2,>=0.8.1 in /usr/local/lib/python3.6/dist-packages (from nbconvert->notebook>=4.3.1->jupyterlab->-r requirements.txt (line 6)) (0.8.4)\n",
            "Requirement already satisfied: pygments in /usr/local/lib/python3.6/dist-packages (from nbconvert->notebook>=4.3.1->jupyterlab->-r requirements.txt (line 6)) (2.6.1)\n",
            "Requirement already satisfied: entrypoints>=0.2.2 in /usr/local/lib/python3.6/dist-packages (from nbconvert->notebook>=4.3.1->jupyterlab->-r requirements.txt (line 6)) (0.3)\n",
            "Requirement already satisfied: pandocfilters>=1.4.1 in /usr/local/lib/python3.6/dist-packages (from nbconvert->notebook>=4.3.1->jupyterlab->-r requirements.txt (line 6)) (1.4.3)\n",
            "Requirement already satisfied: testpath in /usr/local/lib/python3.6/dist-packages (from nbconvert->notebook>=4.3.1->jupyterlab->-r requirements.txt (line 6)) (0.4.4)\n",
            "Requirement already satisfied: attrs>=17.4.0 in /usr/local/lib/python3.6/dist-packages (from jsonschema>=3.0.1->jupyterlab-server<2.0,>=1.1.5->jupyterlab->-r requirements.txt (line 6)) (20.3.0)\n",
            "Requirement already satisfied: pyrsistent>=0.14.0 in /usr/local/lib/python3.6/dist-packages (from jsonschema>=3.0.1->jupyterlab-server<2.0,>=1.1.5->jupyterlab->-r requirements.txt (line 6)) (0.17.3)\n",
            "Requirement already satisfied: importlib-metadata; python_version < \"3.8\" in /usr/local/lib/python3.6/dist-packages (from jsonschema>=3.0.1->jupyterlab-server<2.0,>=1.1.5->jupyterlab->-r requirements.txt (line 6)) (2.0.0)\n",
            "Requirement already satisfied: idna<3,>=2.5 in /usr/local/lib/python3.6/dist-packages (from requests->jupyterlab-server<2.0,>=1.1.5->jupyterlab->-r requirements.txt (line 6)) (2.10)\n",
            "Requirement already satisfied: urllib3!=1.25.0,!=1.25.1,<1.26,>=1.21.1 in /usr/local/lib/python3.6/dist-packages (from requests->jupyterlab-server<2.0,>=1.1.5->jupyterlab->-r requirements.txt (line 6)) (1.24.3)\n",
            "Requirement already satisfied: certifi>=2017.4.17 in /usr/local/lib/python3.6/dist-packages (from requests->jupyterlab-server<2.0,>=1.1.5->jupyterlab->-r requirements.txt (line 6)) (2020.11.8)\n",
            "Requirement already satisfied: chardet<4,>=3.0.2 in /usr/local/lib/python3.6/dist-packages (from requests->jupyterlab-server<2.0,>=1.1.5->jupyterlab->-r requirements.txt (line 6)) (3.0.4)\n",
            "Requirement already satisfied: pyasn1-modules>=0.2.1 in /usr/local/lib/python3.6/dist-packages (from google-auth<2,>=1.6.3->tensorboard>=2.2.0->pytorch-lightning==1.0.5->-r requirements.txt (line 9)) (0.2.8)\n",
            "Requirement already satisfied: cachetools<5.0,>=2.0.0 in /usr/local/lib/python3.6/dist-packages (from google-auth<2,>=1.6.3->tensorboard>=2.2.0->pytorch-lightning==1.0.5->-r requirements.txt (line 9)) (4.1.1)\n",
            "Requirement already satisfied: rsa<5,>=3.1.4; python_version >= \"3\" in /usr/local/lib/python3.6/dist-packages (from google-auth<2,>=1.6.3->tensorboard>=2.2.0->pytorch-lightning==1.0.5->-r requirements.txt (line 9)) (4.6)\n",
            "Requirement already satisfied: requests-oauthlib>=0.7.0 in /usr/local/lib/python3.6/dist-packages (from google-auth-oauthlib<0.5,>=0.4.1->tensorboard>=2.2.0->pytorch-lightning==1.0.5->-r requirements.txt (line 9)) (1.3.0)\n",
            "Requirement already satisfied: pexpect; sys_platform != \"win32\" in /usr/local/lib/python3.6/dist-packages (from ipython>=4.0.0->ipykernel->notebook>=4.3.1->jupyterlab->-r requirements.txt (line 6)) (4.8.0)\n",
            "Requirement already satisfied: prompt-toolkit<2.0.0,>=1.0.4 in /usr/local/lib/python3.6/dist-packages (from ipython>=4.0.0->ipykernel->notebook>=4.3.1->jupyterlab->-r requirements.txt (line 6)) (1.0.18)\n",
            "Requirement already satisfied: simplegeneric>0.8 in /usr/local/lib/python3.6/dist-packages (from ipython>=4.0.0->ipykernel->notebook>=4.3.1->jupyterlab->-r requirements.txt (line 6)) (0.8.1)\n",
            "Requirement already satisfied: pickleshare in /usr/local/lib/python3.6/dist-packages (from ipython>=4.0.0->ipykernel->notebook>=4.3.1->jupyterlab->-r requirements.txt (line 6)) (0.7.5)\n",
            "Requirement already satisfied: webencodings in /usr/local/lib/python3.6/dist-packages (from bleach->nbconvert->notebook>=4.3.1->jupyterlab->-r requirements.txt (line 6)) (0.5.1)\n",
            "Requirement already satisfied: packaging in /usr/local/lib/python3.6/dist-packages (from bleach->nbconvert->notebook>=4.3.1->jupyterlab->-r requirements.txt (line 6)) (20.4)\n",
            "Requirement already satisfied: zipp>=0.5 in /usr/local/lib/python3.6/dist-packages (from importlib-metadata; python_version < \"3.8\"->jsonschema>=3.0.1->jupyterlab-server<2.0,>=1.1.5->jupyterlab->-r requirements.txt (line 6)) (3.4.0)\n",
            "Requirement already satisfied: pyasn1<0.5.0,>=0.4.6 in /usr/local/lib/python3.6/dist-packages (from pyasn1-modules>=0.2.1->google-auth<2,>=1.6.3->tensorboard>=2.2.0->pytorch-lightning==1.0.5->-r requirements.txt (line 9)) (0.4.8)\n",
            "Requirement already satisfied: oauthlib>=3.0.0 in /usr/local/lib/python3.6/dist-packages (from requests-oauthlib>=0.7.0->google-auth-oauthlib<0.5,>=0.4.1->tensorboard>=2.2.0->pytorch-lightning==1.0.5->-r requirements.txt (line 9)) (3.1.0)\n",
            "Requirement already satisfied: wcwidth in /usr/local/lib/python3.6/dist-packages (from prompt-toolkit<2.0.0,>=1.0.4->ipython>=4.0.0->ipykernel->notebook>=4.3.1->jupyterlab->-r requirements.txt (line 6)) (0.2.5)\n",
            "Requirement already satisfied: pyparsing>=2.0.2 in /usr/local/lib/python3.6/dist-packages (from packaging->bleach->nbconvert->notebook>=4.3.1->jupyterlab->-r requirements.txt (line 6)) (2.4.7)\n",
            "Building wheels for collected packages: future, test-tube, PyYAML\n",
            "  Building wheel for future (setup.py) ... \u001b[?25l\u001b[?25hdone\n",
            "  Created wheel for future: filename=future-0.17.1-cp36-none-any.whl size=488730 sha256=8ba078233e808c745e4a1fa854bbd3c1d460fbe0eaaacb123dd7393de3303177\n",
            "  Stored in directory: /root/.cache/pip/wheels/0c/61/d2/d6b7317325828fbb39ee6ad559dbe4664d0896da4721bf379e\n",
            "  Building wheel for test-tube (setup.py) ... \u001b[?25l\u001b[?25hdone\n",
            "  Created wheel for test-tube: filename=test_tube-0.7.5-cp36-none-any.whl size=25357 sha256=c07decda39fd7fcebe5adb5b4350ec6b92b0ae88d93321d92d463c271cea1e2a\n",
            "  Stored in directory: /root/.cache/pip/wheels/02/52/96/c8b6f3c345cfd3284845ef50818c6996a5658006fe50e40e98\n",
            "  Building wheel for PyYAML (setup.py) ... \u001b[?25l\u001b[?25hdone\n",
            "  Created wheel for PyYAML: filename=PyYAML-5.3.1-cp36-cp36m-linux_x86_64.whl size=44619 sha256=135913686ddc8c1ab2612210db7808fb6a4605046a9cee3a3633ebe668e96c88\n",
            "  Stored in directory: /root/.cache/pip/wheels/a7/c1/ea/cf5bd31012e735dc1dfea3131a2d5eae7978b251083d6247bd\n",
            "Successfully built future test-tube PyYAML\n",
            "\u001b[31mERROR: nbclient 0.5.1 has requirement jupyter-client>=6.1.5, but you'll have jupyter-client 5.3.5 which is incompatible.\u001b[0m\n",
            "Installing collected packages: jsonschema, json5, jupyterlab-server, jupyterlab, fsspec, PyYAML, future, pytorch-lightning, astral, test-tube\n",
            "  Found existing installation: jsonschema 2.6.0\n",
            "    Uninstalling jsonschema-2.6.0:\n",
            "      Successfully uninstalled jsonschema-2.6.0\n",
            "  Found existing installation: PyYAML 3.13\n",
            "    Uninstalling PyYAML-3.13:\n",
            "      Successfully uninstalled PyYAML-3.13\n",
            "  Found existing installation: future 0.16.0\n",
            "    Uninstalling future-0.16.0:\n",
            "      Successfully uninstalled future-0.16.0\n",
            "Successfully installed PyYAML-5.3.1 astral-2.2 fsspec-0.8.4 future-0.17.1 json5-0.9.5 jsonschema-3.2.0 jupyterlab-2.2.9 jupyterlab-server-1.2.0 pytorch-lightning-1.0.5 test-tube-0.7.5\n"
          ],
          "name": "stdout"
        }
      ]
    },
    {
      "cell_type": "code",
      "metadata": {
        "id": "HDqKekw6kEwD",
        "colab": {
          "base_uri": "https://localhost:8080/"
        },
        "outputId": "a07107c9-92e7-485a-e75e-fddcdc12ec51"
      },
      "source": [
        "# # Download data\n",
        "# %cd /content\n",
        "# !wget 'https://storage.lodrant.si/datasets/dataset_v1.zip'\n",
        "# !unzip dataset_v1.zip\n",
        "\n",
        "#  Mount data\n",
        "from google.colab import drive\n",
        "drive.mount('/content/drive', force_remount=True)"
      ],
      "execution_count": 3,
      "outputs": [
        {
          "output_type": "stream",
          "text": [
            "Mounted at /content/drive\n"
          ],
          "name": "stdout"
        }
      ]
    },
    {
      "cell_type": "code",
      "metadata": {
        "colab": {
          "base_uri": "https://localhost:8080/"
        },
        "id": "Dh0Ru2snk6vJ",
        "outputId": "774d9efa-56ab-4560-a488-8ec7e4752892"
      },
      "source": [
        "## Copy data\n",
        "!time cp -r \"/content/drive/My Drive/dsl/datasets/v2\" /content/data"
      ],
      "execution_count": 5,
      "outputs": [
        {
          "output_type": "stream",
          "text": [
            "\n",
            "real\t17m8.011s\n",
            "user\t0m0.093s\n",
            "sys\t0m10.312s\n"
          ],
          "name": "stdout"
        }
      ]
    },
    {
      "cell_type": "code",
      "metadata": {
        "id": "sHlxTn1Rra9H",
        "colab": {
          "base_uri": "https://localhost:8080/"
        },
        "outputId": "83da7828-f53c-4dd4-a35e-02152d70b4e4"
      },
      "source": [
        "# Train model\n",
        "%cd /content/irccam-pmodwrc\n",
        "import json \n",
        "config = {\n",
        "    \"batch_size\": 4,\n",
        "    \"batch_size_val\": 8,\n",
        "    \"num_epochs\": 16,\n",
        "    \"model_name\": \"unet\",\n",
        "    \"dataset_root\": r\"/content/drive/My Drive/dsl/datasets/v2\",\n",
        "    \"learning_rate\": 0.01,\n",
        "    \"experiment_name\": \"colab_test\",\n",
        "    \"dataset_class\": \"hdf5\",\n",
        "    \"log_dir\": \"/content/drive/My Drive/dsl/training_logs\"\n",
        "}\n",
        "with open(\"config.json\", \"w\") as f:\n",
        "    json.dump(config, f)\n",
        "\n",
        "!PYTHONPATH=$PYTHONPATH:/content/irccam-pmodwrc python irccam/training/train.py -c config.json"
      ],
      "execution_count": 7,
      "outputs": [
        {
          "output_type": "stream",
          "text": [
            "/content/irccam-pmodwrc\n",
            "/content/irccam-pmodwrc/irccam/datasets/cloud_dataset.py:97: H5pyDeprecationWarning: The default file mode will change to 'r' (read-only) in h5py 3.0. To suppress this warning, pass the mode you need to h5py.File(), or set the global default h5.get_config().default_file_mode, or set the environment variable H5PY_DEFAULT_READONLY=1. Available modes are: 'r', 'r+', 'w', 'w-'/'x', 'a'. See the docs for details.\n",
            "  with h5py.File(file_path) as h5_file:\n",
            "GPU available: True, used: True\n",
            "TPU available: False, using: 0 TPU cores\n",
            "LOCAL_RANK: 0 - CUDA_VISIBLE_DEVICES: [0]\n",
            "2020-11-26 21:00:18.105575: I tensorflow/stream_executor/platform/default/dso_loader.cc:48] Successfully opened dynamic library libcudart.so.10.1\n",
            "\n",
            "  | Name               | Type             | Params\n",
            "--------------------------------------------------------\n",
            "0 | model              | UNet             | 17 M  \n",
            "1 | cross_entropy_loss | CrossEntropyLoss | 0     \n",
            "Validation sanity check: 0it [00:00, ?it/s]/content/irccam-pmodwrc/irccam/datasets/cloud_dataset.py:110: H5pyDeprecationWarning: The default file mode will change to 'r' (read-only) in h5py 3.0. To suppress this warning, pass the mode you need to h5py.File(), or set the global default h5.get_config().default_file_mode, or set the environment variable H5PY_DEFAULT_READONLY=1. Available modes are: 'r', 'r+', 'w', 'w-'/'x', 'a'. See the docs for details.\n",
            "  with h5py.File(self.files[file_index]) as h5_file:\n",
            "Epoch 0:  84% 74/88 [00:17<00:03,  4.22it/s, loss=0.659, v_num=0]\n",
            "Validating: 0it [00:00, ?it/s]\u001b[A\n",
            "Epoch 0:  85% 75/88 [00:17<00:03,  4.22it/s, loss=0.659, v_num=0]\n",
            "Epoch 0:  86% 76/88 [00:18<00:02,  4.22it/s, loss=0.659, v_num=0]\n",
            "Epoch 0:  88% 77/88 [00:18<00:02,  4.22it/s, loss=0.659, v_num=0]\n",
            "Epoch 0:  89% 78/88 [00:18<00:02,  4.22it/s, loss=0.659, v_num=0]\n",
            "Epoch 0:  90% 79/88 [00:18<00:02,  4.23it/s, loss=0.659, v_num=0]\n",
            "Epoch 0:  91% 80/88 [00:18<00:01,  4.22it/s, loss=0.659, v_num=0]\n",
            "Epoch 0:  92% 81/88 [00:19<00:01,  4.23it/s, loss=0.659, v_num=0]\n",
            "Epoch 0:  93% 82/88 [00:19<00:01,  4.23it/s, loss=0.659, v_num=0]\n",
            "Epoch 0:  94% 83/88 [00:19<00:01,  4.23it/s, loss=0.659, v_num=0]\n",
            "Epoch 0:  95% 84/88 [00:19<00:00,  4.23it/s, loss=0.659, v_num=0]\n",
            "Epoch 0:  97% 85/88 [00:20<00:00,  4.24it/s, loss=0.659, v_num=0]\n",
            "Epoch 0:  98% 86/88 [00:20<00:00,  4.24it/s, loss=0.659, v_num=0]\n",
            "Epoch 0:  99% 87/88 [00:20<00:00,  4.24it/s, loss=0.659, v_num=0]Epoch 0: val_iou reached 0.42075 (best 0.42075), saving model to /content/drive/My Drive/dsl/training_logs/20201126210007-colab_test/tube_logs/version_0/checkpoints/epoch=0.ckpt as top 1\n",
            "Epoch 0: 100% 88/88 [00:23<00:00,  3.71it/s, loss=0.659, v_num=0, val_iou=0.421]\n",
            "Epoch 1:  84% 74/88 [00:18<00:03,  4.05it/s, loss=0.639, v_num=0, val_iou=0.421]\n",
            "Validating: 0it [00:00, ?it/s]\u001b[A\n",
            "Epoch 1:  85% 75/88 [00:18<00:03,  4.05it/s, loss=0.639, v_num=0, val_iou=0.421]\n",
            "Epoch 1:  86% 76/88 [00:18<00:02,  4.05it/s, loss=0.639, v_num=0, val_iou=0.421]\n",
            "Epoch 1:  88% 77/88 [00:19<00:02,  4.05it/s, loss=0.639, v_num=0, val_iou=0.421]\n",
            "Epoch 1:  89% 78/88 [00:19<00:02,  4.06it/s, loss=0.639, v_num=0, val_iou=0.421]\n",
            "Epoch 1:  90% 79/88 [00:19<00:02,  4.05it/s, loss=0.639, v_num=0, val_iou=0.421]\n",
            "Epoch 1:  91% 80/88 [00:19<00:01,  4.05it/s, loss=0.639, v_num=0, val_iou=0.421]\n",
            "Epoch 1:  92% 81/88 [00:19<00:01,  4.05it/s, loss=0.639, v_num=0, val_iou=0.421]\n",
            "Epoch 1:  93% 82/88 [00:20<00:01,  4.05it/s, loss=0.639, v_num=0, val_iou=0.421]\n",
            "Epoch 1:  94% 83/88 [00:20<00:01,  4.06it/s, loss=0.639, v_num=0, val_iou=0.421]\n",
            "Epoch 1:  95% 84/88 [00:20<00:00,  4.06it/s, loss=0.639, v_num=0, val_iou=0.421]\n",
            "Epoch 1:  97% 85/88 [00:20<00:00,  4.06it/s, loss=0.639, v_num=0, val_iou=0.421]\n",
            "Epoch 1:  98% 86/88 [00:21<00:00,  4.06it/s, loss=0.639, v_num=0, val_iou=0.421]\n",
            "Epoch 1:  99% 87/88 [00:21<00:00,  4.06it/s, loss=0.639, v_num=0, val_iou=0.421]\n",
            "Epoch 1: 100% 88/88 [00:21<00:00,  4.09it/s, loss=0.639, v_num=0, val_iou=0.421]Epoch 1: val_iou was not in top 1\n",
            "Epoch 1: 100% 88/88 [00:22<00:00,  3.84it/s, loss=0.639, v_num=0, val_iou=0.419]\n",
            "Epoch 2:  84% 74/88 [00:18<00:03,  4.06it/s, loss=0.631, v_num=0, val_iou=0.419]\n",
            "Validating: 0it [00:00, ?it/s]\u001b[A\n",
            "Epoch 2:  85% 75/88 [00:18<00:03,  4.05it/s, loss=0.631, v_num=0, val_iou=0.419]\n",
            "Epoch 2:  86% 76/88 [00:18<00:02,  4.06it/s, loss=0.631, v_num=0, val_iou=0.419]\n",
            "Epoch 2:  88% 77/88 [00:18<00:02,  4.06it/s, loss=0.631, v_num=0, val_iou=0.419]\n",
            "Epoch 2:  89% 78/88 [00:19<00:02,  4.06it/s, loss=0.631, v_num=0, val_iou=0.419]\n",
            "Epoch 2:  90% 79/88 [00:19<00:02,  4.06it/s, loss=0.631, v_num=0, val_iou=0.419]\n",
            "Epoch 2:  91% 80/88 [00:19<00:01,  4.07it/s, loss=0.631, v_num=0, val_iou=0.419]\n",
            "Epoch 2:  92% 81/88 [00:19<00:01,  4.06it/s, loss=0.631, v_num=0, val_iou=0.419]\n",
            "Epoch 2:  93% 82/88 [00:20<00:01,  4.07it/s, loss=0.631, v_num=0, val_iou=0.419]\n",
            "Epoch 2:  94% 83/88 [00:20<00:01,  4.07it/s, loss=0.631, v_num=0, val_iou=0.419]\n",
            "Epoch 2:  95% 84/88 [00:20<00:00,  4.07it/s, loss=0.631, v_num=0, val_iou=0.419]\n",
            "Epoch 2:  97% 85/88 [00:20<00:00,  4.08it/s, loss=0.631, v_num=0, val_iou=0.419]\n",
            "Epoch 2:  98% 86/88 [00:21<00:00,  4.08it/s, loss=0.631, v_num=0, val_iou=0.419]\n",
            "Epoch 2:  99% 87/88 [00:21<00:00,  4.08it/s, loss=0.631, v_num=0, val_iou=0.419]Epoch 2: val_iou was not in top 1\n",
            "Epoch 2: 100% 88/88 [00:22<00:00,  3.86it/s, loss=0.631, v_num=0, val_iou=0.412]\n",
            "Epoch 3:  84% 74/88 [00:18<00:03,  4.03it/s, loss=0.607, v_num=0, val_iou=0.412]\n",
            "Validating: 0it [00:00, ?it/s]\u001b[A\n",
            "Epoch 3:  85% 75/88 [00:18<00:03,  4.03it/s, loss=0.607, v_num=0, val_iou=0.412]\n",
            "Epoch 3:  86% 76/88 [00:18<00:02,  4.03it/s, loss=0.607, v_num=0, val_iou=0.412]\n",
            "Epoch 3:  88% 77/88 [00:19<00:02,  4.03it/s, loss=0.607, v_num=0, val_iou=0.412]\n",
            "Epoch 3:  89% 78/88 [00:19<00:02,  4.03it/s, loss=0.607, v_num=0, val_iou=0.412]\n",
            "Epoch 3:  90% 79/88 [00:19<00:02,  4.03it/s, loss=0.607, v_num=0, val_iou=0.412]\n",
            "Epoch 3:  91% 80/88 [00:19<00:01,  4.03it/s, loss=0.607, v_num=0, val_iou=0.412]\n",
            "Epoch 3:  92% 81/88 [00:20<00:01,  4.03it/s, loss=0.607, v_num=0, val_iou=0.412]\n",
            "Epoch 3:  93% 82/88 [00:20<00:01,  4.03it/s, loss=0.607, v_num=0, val_iou=0.412]\n",
            "Epoch 3:  94% 83/88 [00:20<00:01,  4.03it/s, loss=0.607, v_num=0, val_iou=0.412]\n",
            "Epoch 3:  95% 84/88 [00:20<00:00,  4.03it/s, loss=0.607, v_num=0, val_iou=0.412]\n",
            "Epoch 3:  97% 85/88 [00:21<00:00,  4.04it/s, loss=0.607, v_num=0, val_iou=0.412]\n",
            "Epoch 3:  98% 86/88 [00:21<00:00,  4.04it/s, loss=0.607, v_num=0, val_iou=0.412]\n",
            "Epoch 3:  99% 87/88 [00:21<00:00,  4.04it/s, loss=0.607, v_num=0, val_iou=0.412]Epoch 3: val_iou reached 0.42982 (best 0.42982), saving model to /content/drive/My Drive/dsl/training_logs/20201126210007-colab_test/tube_logs/version_0/checkpoints/epoch=3.ckpt as top 1\n",
            "Epoch 3: 100% 88/88 [00:24<00:00,  3.59it/s, loss=0.607, v_num=0, val_iou=0.43] \n",
            "Epoch 4:  84% 74/88 [00:18<00:03,  3.95it/s, loss=0.603, v_num=0, val_iou=0.43]\n",
            "Validating: 0it [00:00, ?it/s]\u001b[A\n",
            "Epoch 4:  85% 75/88 [00:18<00:03,  3.95it/s, loss=0.603, v_num=0, val_iou=0.43]\n",
            "Epoch 4:  86% 76/88 [00:19<00:03,  3.95it/s, loss=0.603, v_num=0, val_iou=0.43]\n",
            "Epoch 4:  88% 77/88 [00:19<00:02,  3.96it/s, loss=0.603, v_num=0, val_iou=0.43]\n",
            "Epoch 4:  89% 78/88 [00:19<00:02,  3.96it/s, loss=0.603, v_num=0, val_iou=0.43]\n",
            "Epoch 4:  90% 79/88 [00:19<00:02,  3.95it/s, loss=0.603, v_num=0, val_iou=0.43]\n",
            "Epoch 4:  91% 80/88 [00:20<00:02,  3.95it/s, loss=0.603, v_num=0, val_iou=0.43]\n",
            "Epoch 4:  92% 81/88 [00:20<00:01,  3.96it/s, loss=0.603, v_num=0, val_iou=0.43]\n",
            "Epoch 4:  93% 82/88 [00:20<00:01,  3.96it/s, loss=0.603, v_num=0, val_iou=0.43]\n",
            "Epoch 4:  94% 83/88 [00:20<00:01,  3.96it/s, loss=0.603, v_num=0, val_iou=0.43]\n",
            "Epoch 4:  95% 84/88 [00:21<00:01,  3.97it/s, loss=0.603, v_num=0, val_iou=0.43]\n",
            "Epoch 4:  97% 85/88 [00:21<00:00,  3.97it/s, loss=0.603, v_num=0, val_iou=0.43]\n",
            "Epoch 4:  98% 86/88 [00:21<00:00,  3.97it/s, loss=0.603, v_num=0, val_iou=0.43]\n",
            "Epoch 4:  99% 87/88 [00:21<00:00,  3.97it/s, loss=0.603, v_num=0, val_iou=0.43]\n",
            "Epoch 4: 100% 88/88 [00:21<00:00,  4.00it/s, loss=0.603, v_num=0, val_iou=0.43]Epoch 4: val_iou was not in top 1\n",
            "Epoch 4: 100% 88/88 [00:23<00:00,  3.76it/s, loss=0.603, v_num=0, val_iou=0.419]\n",
            "Epoch 5:   2% 2/88 [00:00<00:22,  3.86it/s, loss=0.625, v_num=0, val_iou=0.419]/usr/local/lib/python3.6/dist-packages/pytorch_lightning/utilities/distributed.py:45: UserWarning: Detected KeyboardInterrupt, attempting graceful shutdown...\n",
            "  warnings.warn(*args, **kwargs)\n",
            "Saving latest checkpoint...\n",
            "Epoch 5: val_iou was not in top 1\n",
            "Epoch 5:   2% 2/88 [00:02<01:33,  1.09s/it, loss=0.625, v_num=0, val_iou=0.419]\n",
            "Testing:  46% 6/13 [00:00<00:00,  7.07it/s]^C\n"
          ],
          "name": "stdout"
        }
      ]
    },
    {
      "cell_type": "code",
      "metadata": {
        "id": "a6fXqyU1yRs2"
      },
      "source": [
        ""
      ],
      "execution_count": null,
      "outputs": []
    }
  ]
}